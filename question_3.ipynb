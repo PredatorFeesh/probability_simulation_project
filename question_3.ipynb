{
 "cells": [
  {
   "cell_type": "markdown",
   "metadata": {},
   "source": [
    "# Question 3"
   ]
  },
  {
   "cell_type": "markdown",
   "metadata": {},
   "source": [
    "![](images/question_3.png)"
   ]
  },
  {
   "cell_type": "markdown",
   "metadata": {},
   "source": [
    "![](images/question_3_diag.png)"
   ]
  },
  {
   "cell_type": "markdown",
   "metadata": {},
   "source": [
    "![](images/question_3_a.png)"
   ]
  },
  {
   "cell_type": "markdown",
   "metadata": {},
   "source": [
    "# ASSUMPTIONS: <br>\n",
    "### - IF A TREE BURNED, WE CAN STILL MOVE ON IT <br>\n",
    "### - IF THE FIRE GOES OFF THE GRID,  IT IS EXTINGUISHED <br>  \n",
    "### - THERE ARE MULTIPLE FIRES (SINCE PROBABILITY DOESN'T ADD UP TO 1). THEY SPREAD IF THEIR CHANCE IS UP."
   ]
  },
  {
   "cell_type": "markdown",
   "metadata": {},
   "source": [
    "We want our true value, with 95% probability, to be within 0.005 of the true answer. <br>\n",
    "$P\\{|\\hat{p} - p| > \\epsilon \\} \\leq \\alpha$, where $\\epsilon=0.005$, and $\\alpha = 0.05$ (since we want 95% accuracy), so: <br>\n",
    "$P\\{|\\hat{p} - p| > 0.005\\} \\leq 0.05$. We do now have an intelligent guess here, so we will calculate: $N = 0.25 (\\frac{z_{0.05}}{0.005})^2$ = $0.25 (\\frac{1.6449}{0.005})^2 \\approx 27057$ iterations. "
   ]
  },
  {
   "cell_type": "markdown",
   "metadata": {},
   "source": [
    "Entire question will be posted so that decesions could be explained.\n",
    "![](images/question_3_parts.png)"
   ]
  },
  {
   "cell_type": "code",
   "execution_count": null,
   "metadata": {},
   "outputs": [],
   "source": [
    "import random\n",
    "import numpy as np"
   ]
  },
  {
   "cell_type": "code",
   "execution_count": null,
   "metadata": {},
   "outputs": [],
   "source": [
    "trials : int = 27057\n",
    "\n",
    "# We will track the x and y of the fire. We can keep track of trees being spread to\n",
    "# by setting a max bound\n",
    "max_row : int = 20\n",
    "max_col : int = 50\n",
    "\n",
    "# The house coordinates are:\n",
    "house_row : int = 0\n",
    "house_col : int = 49\n",
    "\n",
    "# Since question (a) asks for a propostion, we should also calculate total cells\n",
    "total_cells = max_row * max_col\n",
    "\n",
    "# We will also track of ACTIVE fire locations (row,col)\n",
    "active_fires : list = []\n",
    "\n",
    "# Track porbability of moving a direction\n",
    "prob_left : float = 0.8\n",
    "prob_right : float = 0.3\n",
    "prob_up : float = 0.3\n",
    "prob_down : float = 0.3\n",
    "\n",
    "# We will keep track of indicies of trees already burned. \n",
    "already_burned : list = []"
   ]
  },
  {
   "cell_type": "code",
   "execution_count": null,
   "metadata": {},
   "outputs": [],
   "source": [
    "# Let's write a function for making moving easier\n",
    "def possible( pos : tuple ) -> bool: # Check if move is possible (we can't go off border)\n",
    "    return pos[0] < max_row and pos[0] >= 0 and pos[1] < max_col and pos[1] >= 0\n",
    "\n",
    "def move( pos : tuple, direction : str ) -> None:\n",
    "    global active_fires\n",
    "    if direction == \"place\": # We don't move but place\n",
    "        active_fires.append( pos ) # We place the new fire\n",
    "        if pos not in already_burned: # If didin'talready burn\n",
    "            already_burned.append(pos)  # Now we say it burned\n",
    "    if direction == \"u\" and possible((pos[0]-1, pos[1])): # up\n",
    "        move( (pos[0] - 1, pos[1]), \"place\" ) # places\n",
    "    if direction == \"d\" and possible((pos[0]+1, pos[1])): # down\n",
    "        move( (pos[0] + 1, pos[1]), \"place\" )# places\n",
    "    if direction == \"l\" and possible((pos[0], pos[1]-1)): # left\n",
    "        move( (pos[0] , pos[1] - 1), \"place\" ) # places\n",
    "    elif direction == \"r\" and possible((pos[0], pos[1]+1)): # right\n",
    "        move( (pos[0], pos[1] + 1), \"place\" ) # places\n",
    "        \n",
    "def process_move(  ) -> None:\n",
    "    global active_fires\n",
    "    global prob_down\n",
    "    global prob_up\n",
    "    global prob_right\n",
    "    global prob_left\n",
    "    # Save copy of activactive_fires because we are resetting activeactive_fires as this iterates\n",
    "    active_fires_copy = active_fires # Here save\n",
    "    active_fires = [] # Here we reset\n",
    "    # Check if we are moving in up, down, left, or right for each active fire\n",
    "    for fire in active_fires_copy:\n",
    "        if random.random() < prob_left:\n",
    "            move(fire, \"l\")\n",
    "        if random.random() < prob_up:\n",
    "            move(fire, \"u\")\n",
    "        if random.random() < prob_left:\n",
    "            move(fire, \"l\")\n",
    "        if random.random() < prob_right:\n",
    "            move(fire, \"r\")\n",
    "    # Now we should have our updates fires           \n",
    "\n"
   ]
  },
  {
   "cell_type": "code",
   "execution_count": null,
   "metadata": {},
   "outputs": [],
   "source": [
    "# We need a reset as well for the trials\n",
    "def reset() -> None:\n",
    "    global active_fires\n",
    "    global already_burned\n",
    "    already_burned = []\n",
    "    active_fires = []\n",
    "    move( (0,0), \"place\" )"
   ]
  },
  {
   "cell_type": "code",
   "execution_count": null,
   "metadata": {},
   "outputs": [],
   "source": [
    "# Let's track some variables \n",
    "proportions_burned = []\n",
    "trials = 3\n",
    "# Now let's run this simulation\n",
    "for trial in range(trials):\n",
    "    reset()\n",
    "    while len(active_fires) != 0: # While there are still fires to process\n",
    "        process_move()\n",
    "    proportions_burned.append( len(already_burned) / total_cells )\n",
    "proportions_burned = np.array(proportions_burned)\n",
    "print(\"\\t{}\".format( proportions_burned.sum() / (total_cells * trials) ))"
   ]
  }
 ],
 "metadata": {
  "kernelspec": {
   "display_name": "Python 3",
   "language": "python",
   "name": "python3"
  },
  "language_info": {
   "codemirror_mode": {
    "name": "ipython",
    "version": 3
   },
   "file_extension": ".py",
   "mimetype": "text/x-python",
   "name": "python",
   "nbconvert_exporter": "python",
   "pygments_lexer": "ipython3",
   "version": "3.6.7"
  }
 },
 "nbformat": 4,
 "nbformat_minor": 2
}
