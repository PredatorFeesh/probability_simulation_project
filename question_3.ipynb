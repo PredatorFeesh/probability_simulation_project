{
 "cells": [
  {
   "cell_type": "markdown",
   "metadata": {},
   "source": [
    "# Question 3"
   ]
  },
  {
   "cell_type": "markdown",
   "metadata": {},
   "source": [
    "![](images/question_3.png)"
   ]
  },
  {
   "cell_type": "markdown",
   "metadata": {},
   "source": [
    "![](images/question_3_diag.png)"
   ]
  },
  {
   "cell_type": "markdown",
   "metadata": {},
   "source": [
    "![](images/question_3_a.png)"
   ]
  },
  {
   "cell_type": "markdown",
   "metadata": {},
   "source": [
    "## ASSUME THAT OFF THE MAP MEANS EXTINGUISHED <br>\n",
    "We want our true value, with 95% probability, to be within 0.005 of the true answer. <br>\n",
    "$P\\{|\\hat{p} - p| > \\epsilon \\} \\leq \\alpha$, where $\\epsilon=0.005$, and $\\alpha = 0.05$ (since we want 95% accuracy), so: <br>\n",
    "$P\\{|\\hat{p} - p| > 0.005\\} \\leq 0.05$. We do now have an intelligent guess here, so we will calculate: $N = 0.25 (\\frac{z_{0.05}}{0.005})^2$ = $0.25 (\\frac{1.6449}{0.005})^2 \\approx 27057$ iterations. "
   ]
  },
  {
   "cell_type": "code",
   "execution_count": null,
   "metadata": {},
   "outputs": [],
   "source": [
    "times_to_run = 27057\n",
    "\n",
    "# We will track the x and y of the fire. We can keep track of trees being spread to\n"
   ]
  }
 ],
 "metadata": {
  "kernelspec": {
   "display_name": "Python 3",
   "language": "python",
   "name": "python3"
  },
  "language_info": {
   "codemirror_mode": {
    "name": "ipython",
    "version": 3
   },
   "file_extension": ".py",
   "mimetype": "text/x-python",
   "name": "python",
   "nbconvert_exporter": "python",
   "pygments_lexer": "ipython3",
   "version": "3.6.7"
  }
 },
 "nbformat": 4,
 "nbformat_minor": 2
}
