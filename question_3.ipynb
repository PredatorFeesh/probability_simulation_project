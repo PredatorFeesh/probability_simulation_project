{
 "cells": [
  {
   "cell_type": "markdown",
   "metadata": {},
   "source": [
    "# Question 3"
   ]
  },
  {
   "cell_type": "markdown",
   "metadata": {},
   "source": [
    "![](images/question_3.png)"
   ]
  },
  {
   "cell_type": "markdown",
   "metadata": {},
   "source": [
    "![](images/question_3_diag.png)"
   ]
  },
  {
   "cell_type": "markdown",
   "metadata": {},
   "source": [
    "![](images/question_3_a.png)"
   ]
  },
  {
   "cell_type": "markdown",
   "metadata": {},
   "source": [
    "## ASSUMPTIONS:\n",
    "### - IF A TREE BURNED, WE CAN MOVE ON IT AGAIN (EXTINGUISHED). \n",
    "THE CONVERSE GREATLY REDUCES THE RUNTIME OF THE PROGRAM, BUT DOES MAKE A SIGNIFICANT CHANGE IN ANSWER.\n",
    "##### *The alternative for this is also exists here and is tracked\n",
    "### - *IF A BURNED TREE CAN BURN AGAIN:* IF MORE THEN HALF OF THE FISRT IS BURNING, MOST OF THE FOREST IS BURNING\n",
    "Reasoning: Let's first look at the half smallest. The probability is bernoulli, and the sum of all active fires is going to be a binomial. We can expect then np trees to burn. Probability of (South and North) Eeast is going to be 0.3, so we can expect 0.3n trees to be burned. If half the grid is burning, we will assume around 20/2 = 10 trees burning, thus we can expect about 3 more trees to the East. Similar logic applies toward North and South, and West has an increased chance, so the fire has a higher chance to stay alive. \n",
    "### - IF THE FIRE GOES OFF THE GRID,  IT IS EXTINGUISHED \n",
    "### - THERE ARE MULTIPLE FIRES (SINCE PROBABILITY OF A FIRE DOESN'T UP OR DOWN OR LEFT OR RIGHT GREATER THEN 1). THEY SPREAD IF THEIR CHANCE IS UP."
   ]
  },
  {
   "cell_type": "markdown",
   "metadata": {},
   "source": [
    "We want our true value, with 95% probability, to be within 0.005 of the true answer. <br>\n",
    "$P\\{|\\hat{p} - p| > \\epsilon \\} \\leq \\alpha$, where $\\epsilon=0.005$, and $\\alpha = 0.05$ (since we want 95% accuracy), so: <br>\n",
    "$P\\{|\\hat{p} - p| > 0.005\\} \\leq 0.05$. We do now have an intelligent guess here, so we will calculate: $N = 0.25 (\\frac{z_{0.05}}{0.005})^2$ = $0.25 (\\frac{1.6449}{0.005})^2 \\approx 27057$ iterations. "
   ]
  },
  {
   "cell_type": "markdown",
   "metadata": {},
   "source": [
    "Entire question will be posted so that decesions could be explained.\n",
    "![](images/question_3_parts.png)"
   ]
  },
  {
   "cell_type": "code",
   "execution_count": 9,
   "metadata": {},
   "outputs": [],
   "source": [
    "import random\n",
    "import numpy as np\n",
    "import math"
   ]
  },
  {
   "cell_type": "code",
   "execution_count": 10,
   "metadata": {},
   "outputs": [
    {
     "data": {
      "text/plain": [
       "1000"
      ]
     },
     "execution_count": 10,
     "metadata": {},
     "output_type": "execute_result"
    }
   ],
   "source": [
    "trials : int = 1000\n",
    "\n",
    "# We will track the x and y of the fire. We can keep track of trees being spread to\n",
    "# by setting a max bound\n",
    "max_row : int = 20\n",
    "max_col : int = 50\n",
    "\n",
    "# The house coordinates are:\n",
    "house_row : int = 0\n",
    "house_col : int = 49\n",
    "\n",
    "# Since question (a) asks for a propostion, we should also calculate total cells\n",
    "total_cells = max_row * max_col\n",
    "\n",
    "# We will also track of ACTIVE fire locations (row,col)\n",
    "active_fires : list = []\n",
    "\n",
    "# Track porbability of moving a direction\n",
    "prob_left : float = 0.8\n",
    "prob_right : float = 0.3\n",
    "prob_up : float = 0.3\n",
    "prob_down : float = 0.3\n",
    "\n",
    "# We will keep track of indicies of trees already burned. \n",
    "already_burned : list = []\n",
    "all_possible : list = [(x,y) for y in range(max_row) for x in range(max_col)]\n",
    "check_burned : bool = False # not_iter_burned # Simulation rule whether we can or can not iterate on burned trees\n",
    "len(all_possible)"
   ]
  },
  {
   "cell_type": "code",
   "execution_count": 13,
   "metadata": {},
   "outputs": [],
   "source": [
    "# Let's write a function for making moving easier\n",
    "# Note: If we don't care what trees already burned, the already_burned stores the total trees that were burned\n",
    "# anyways, although we don't use this for comparison.\n",
    "def possible( pos : tuple, check_burned : bool ) -> bool: # Check if move is possible (we can't go off border)\n",
    "    global already_burned\n",
    "    if check_burned:\n",
    "        # @return if we are in the bounds, and not already burned, and if we are not already to be burning\n",
    "        return pos[0] < max_row and pos[0] >= 0 and pos[1] < max_col and pos[1] >= 0 and pos not in already_burned and pos not in active_fires\n",
    "    # @return if we are in the bounds, and not already to be burning\n",
    "    return pos[0] < max_row and pos[0] >= 0 and pos[1] < max_col and pos[1] >= 0 and pos not in active_fires and pos not in active_fires\n",
    "\n",
    "def move( pos : tuple, direction : str, check_burned : bool ) -> None:\n",
    "    global active_fires\n",
    "    \n",
    "    if direction == \"place\" and possible( pos, check_burned=check_burned ): # We don't move but place\n",
    "        active_fires.append( pos ) # We place the new fire\n",
    "        if pos not in already_burned: # Only append if we aren't already burned\n",
    "            already_burned.append(pos)  # Now we say it burned\n",
    "    if direction == \"u\" and possible((pos[0]-1, pos[1]), check_burned=check_burned): # up\n",
    "        move( (pos[0] - 1, pos[1]), \"place\", check_burned ) # places\n",
    "    if direction == \"d\" and possible((pos[0]+1, pos[1]), check_burned=check_burned): # down\n",
    "        move( (pos[0] + 1, pos[1]), \"place\", check_burned )# places\n",
    "    if direction == \"l\" and possible((pos[0], pos[1]-1), check_burned=check_burned): # left\n",
    "        move( (pos[0] , pos[1] - 1), \"place\", check_burned ) # places\n",
    "    if direction == \"r\" and possible((pos[0], pos[1]+1), check_burned=check_burned): # right\n",
    "        move( (pos[0], pos[1] + 1), \"place\", check_burned ) # places\n",
    "        # NOTE: We check burned every time, in order to avoid recursion if possible (as it is very inneficient)\n",
    "def process_move( check_burned : bool ) -> None:\n",
    "    global active_fires\n",
    "    global prob_down\n",
    "    global prob_up\n",
    "    global prob_right\n",
    "    global prob_left\n",
    "    global all_possible\n",
    "    global already_burned\n",
    "    if not check_burned and len(active_fires) >= total_cells/3: # If we reitering already burned trees\n",
    "        active_fires = []\n",
    "        already_burned = all_possible    \n",
    "        return\n",
    "    # Save copy of activactive_fires because we are resetting activeactive_fires as this iterates\n",
    "    active_fires_copy = active_fires # Here save\n",
    "    active_fires = [] # Here we reset\n",
    "    # Check if we are moving in up, down, left, or right for each active fire\n",
    "    \n",
    "    for fire in active_fires_copy:\n",
    "        if random.random() < prob_left:\n",
    "            move(fire, \"l\", check_burned=check_burned)\n",
    "        if random.random() < prob_up:\n",
    "            move(fire, \"u\", check_burned=check_burned)\n",
    "        if random.random() < prob_down:\n",
    "            move(fire, \"d\", check_burned=check_burned)\n",
    "        if random.random() < prob_right:\n",
    "            move(fire, \"r\", check_burned=check_burned)\n",
    "        \n",
    "    # Now we should have our updated fires           \n",
    "\n"
   ]
  },
  {
   "cell_type": "code",
   "execution_count": 6,
   "metadata": {},
   "outputs": [],
   "source": [
    "# We need a reset as well for the trials\n",
    "def reset() -> None:\n",
    "    global active_fires\n",
    "    global already_burned\n",
    "    already_burned = []\n",
    "    active_fires = []\n",
    "    move( (0,0), \"place\", check_burned=check_burned )"
   ]
  },
  {
   "cell_type": "code",
   "execution_count": 14,
   "metadata": {},
   "outputs": [
    {
     "name": "stdout",
     "output_type": "stream",
     "text": [
      "\t(a) Probability more then 30 trees burn:0.16\n",
      "\t(b) Expected number of burned trees:160.874\n",
      "\t(c) Standard Deviation of trees burned: 364.869916715533\n"
     ]
    }
   ],
   "source": [
    "# Let's track some variables \n",
    "total_trees_bruned = []\n",
    "\n",
    "\n",
    "# Now let's run this simulation\n",
    "for trial in range(trials):\n",
    "    reset()\n",
    "    while len(active_fires) != 0: # While there are still fires to process\n",
    "        process_move( check_burned = check_burned )\n",
    "        \n",
    "    total_trees_bruned.append( len(already_burned) )\n",
    "total_trees_bruned = np.array(total_trees_bruned)\n",
    "# Part (a)\n",
    "print(\"\\t(a) Probability more then 30 trees burn:{}\".format(\\\n",
    "                                                        (total_trees_bruned >= 30).mean()   \\\n",
    "                                                       ))\n",
    "print(\"\\t(b) Expected number of burned trees:{}\".format(\\\n",
    "                                                    total_trees_bruned.mean()\\\n",
    "                                                   ))\n",
    "print(\"\\t(c) Standard Deviation of trees burned: {}\".format(\\\n",
    "                                                        total_trees_bruned.std()\\\n",
    "                                                       ))"
   ]
  },
  {
   "cell_type": "markdown",
   "metadata": {},
   "source": [
    "We get a huge variance, thus telling to us that this simulation is not really accurate. <br>\n",
    "\n",
    "Next, we look for the probability that the estimator is off by 25 trees. This is P(137 < X < 187). In order to solve this, we will need to assume a certain distribution. Because we tend to be at extremes, this looks most like the [U distribution](https://en.wikipedia.org/wiki/U-quadratic_distribution).\n",
    "\n"
   ]
  },
  {
   "cell_type": "markdown",
   "metadata": {},
   "source": [
    "$f(x) = \\alpha (x-\\beta)^2  , \\alpha = \\frac{12}{(b-a)^3} , \\beta = \\frac{a+b}{2}$ <br>\n",
    "In our case, $a,b$ are equal to the two maximum extremes, $1, 1000$. <br>\n",
    "So: $\\alpha = \\frac{12}{(b-a)^3} = \\frac{12}{999^3} = 1.2 * 10^{-8} , \\beta = \\frac{a+b}{2} = \\frac{1001}{2} = 500.5$<br>\n",
    "\n",
    "$F(x) = \\frac{\\alpha}{3} ((x-\\beta)^3 - (\\beta - \\alpha)^3)  $ <br>\n",
    "$P(137 < X < 187) = F(187) - F(137) = $"
   ]
  }
 ],
 "metadata": {
  "kernelspec": {
   "display_name": "Python 3",
   "language": "python",
   "name": "python3"
  },
  "language_info": {
   "codemirror_mode": {
    "name": "ipython",
    "version": 3
   },
   "file_extension": ".py",
   "mimetype": "text/x-python",
   "name": "python",
   "nbconvert_exporter": "python",
   "pygments_lexer": "ipython3",
   "version": "3.7.1"
  }
 },
 "nbformat": 4,
 "nbformat_minor": 2
}
