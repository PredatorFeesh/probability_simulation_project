{
 "cells": [
  {
   "cell_type": "markdown",
   "metadata": {},
   "source": [
    "# QUESTION 1"
   ]
  },
  {
   "cell_type": "markdown",
   "metadata": {},
   "source": [
    "A system consists of two subsystems connected in series as shown in the following diagram\n",
    "![](images/question_1.png)\n",
    "Each subsystem consists of two components connected in parallel. The AB subsystem fails whenboth A and B have failed. The CD subsystem fails when both C and D have failed. The wholesystem fails as soon as one of the two subsystems fails. Assume that lifetimes of the components,in months, have the following distributions: <br>\n",
    "T_a ~ Exponential(lambda = 1)<br>\n",
    "T_b ~ Exponential(lambda = 0.1)<br>\n",
    "T_c ~ Exponential(lambda = 0.2)<br>\n",
    "T_d ~ Exponential(lambda = 0.2)"
   ]
  },
  {
   "cell_type": "code",
   "execution_count": 1,
   "metadata": {},
   "outputs": [],
   "source": [
    "# Before we start doing anything, we need to make sure that we have proper modules imported\n",
    "import numpy"
   ]
  },
  {
   "cell_type": "code",
   "execution_count": 2,
   "metadata": {},
   "outputs": [],
   "source": [
    "# Now we specify the number of times we plan to run the simulation\n",
    "times = int(1e4)"
   ]
  },
  {
   "cell_type": "markdown",
   "metadata": {},
   "source": [
    "(a) Write a program to simulaterandom variables that represent the lifetimes of AB and CD subsystems, and the lifetime of the whole system."
   ]
  },
  {
   "cell_type": "code",
   "execution_count": 3,
   "metadata": {},
   "outputs": [],
   "source": [
    "# To generate the A,B,C,D \n",
    "A : numpy.ndarray = numpy.random.exponential(scale=1/1, size=times)\n",
    "B : numpy.ndarray = numpy.random.exponential(scale=1/0.1, size=times)\n",
    "C : numpy.ndarray = numpy.random.exponential(scale=1/0.2, size=times)\n",
    "D : numpy.ndarray = numpy.random.exponential(scale=1/0.2, size=times)"
   ]
  },
  {
   "cell_type": "code",
   "execution_count": 4,
   "metadata": {},
   "outputs": [
    {
     "name": "stdout",
     "output_type": "stream",
     "text": [
      "\tLifetime AB: [13.46884328 45.56378126 31.38645451 ...  3.19868389  5.59316812\n",
      " 12.23253637]         Lifetime CD:[ 4.98827346 16.1103013   8.92068728 ... 11.90368206  8.56342911\n",
      " 12.46921534]\n"
     ]
    }
   ],
   "source": [
    "# Now we are looking for which component breaks last in either AB or CD,\n",
    "# since if one breaks, that doesn't mean that component dies. Both components\n",
    "# have to die for the entire circuit to die.\n",
    "AB : numpy.ndarray = numpy.maximum(A, B)\n",
    "CD : numpy.ndarray = numpy.maximum(C, D)\n",
    "\n",
    "print(\"\\tLifetime AB: {} \\\n",
    "        Lifetime CD:{}\".format(AB,CD))"
   ]
  },
  {
   "cell_type": "markdown",
   "metadata": {},
   "source": [
    "(b) Run 10,000 replications of the simulation and based on the results construct a histogram for the system lifetime.Estimate the average system lifetime."
   ]
  },
  {
   "cell_type": "code",
   "execution_count": 5,
   "metadata": {
    "scrolled": false
   },
   "outputs": [
    {
     "name": "stdout",
     "output_type": "stream",
     "text": [
      "\tThe average lifespan is: 4.760045536492804\n"
     ]
    }
   ],
   "source": [
    "# Now, we need to make sure component AB AND CD are operational.\n",
    "# If one breaks, the entire circuit breaks, thus, here we look for\n",
    "# the entire lifespan\n",
    "lifespans : numpy.ndarray = numpy.minimum(AB, CD)\n",
    "\n",
    "# Now we take the average of all the trials to get\n",
    "# our average lifespan.\n",
    "average_lifetime : float = numpy.mean(lifespans)\n",
    "\n",
    "print(\"\\tThe average lifespan is: {}\".format(average_lifetime))"
   ]
  },
  {
   "cell_type": "markdown",
   "metadata": {},
   "source": [
    "(c) Estimate the probability that the AB subsystem fails before the CD subsystem fails, usingMonte Carlo simulation."
   ]
  },
  {
   "cell_type": "code",
   "execution_count": 6,
   "metadata": {},
   "outputs": [
    {
     "name": "stdout",
     "output_type": "stream",
     "text": [
      "\tProb that AB dies before CD: 0.4559\n"
     ]
    }
   ],
   "source": [
    "# We will generate a new numpy array that is 0 when AB < CD, and 1 otherwise\n",
    "AB_before_CD : numpy.ndarray =  AB < CD\n",
    "AB_b_CD_average : float = numpy.mean(AB_before_CD)\n",
    "\n",
    "# We will print the average\n",
    "print(\"\\tProb that AB dies before CD: {}\".format(AB_b_CD_average))\n"
   ]
  }
 ],
 "metadata": {
  "kernelspec": {
   "display_name": "Python 3",
   "language": "python",
   "name": "python3"
  },
  "language_info": {
   "codemirror_mode": {
    "name": "ipython",
    "version": 3
   },
   "file_extension": ".py",
   "mimetype": "text/x-python",
   "name": "python",
   "nbconvert_exporter": "python",
   "pygments_lexer": "ipython3",
   "version": "3.7.1"
  }
 },
 "nbformat": 4,
 "nbformat_minor": 2
}
