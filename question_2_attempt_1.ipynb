{
 "cells": [
  {
   "cell_type": "markdown",
   "metadata": {},
   "source": [
    "# QUESTION 2"
   ]
  },
  {
   "cell_type": "markdown",
   "metadata": {},
   "source": [
    "![](images/question_2_text.png)"
   ]
  },
  {
   "cell_type": "code",
   "execution_count": 1,
   "metadata": {},
   "outputs": [],
   "source": [
    "# Import needed module\n",
    "import numpy\n",
    "import random\n",
    "\n",
    "# For consistent results we seed\n",
    "random.seed(6)"
   ]
  },
  {
   "cell_type": "code",
   "execution_count": 2,
   "metadata": {},
   "outputs": [],
   "source": [
    "# First, we will generate all the computers in the network\n",
    "num_computers : int = 20\n",
    "computers : numpy.ndarray = numpy.zeros(num_computers)\n",
    "\n",
    "# And we will say that the first computer is infected. It doesn't matter\n",
    "# which computer we say is infected, as computers here are indistinguishable. \n",
    "# (All connected)\n",
    "computers[0] = 1 # The infection begins!"
   ]
  },
  {
   "cell_type": "code",
   "execution_count": 3,
   "metadata": {},
   "outputs": [
    {
     "data": {
      "text/plain": [
       "array([1., 0., 0., 0., 0., 0., 0., 0., 0., 0., 0., 0., 0., 0., 0., 0., 0.,\n",
       "       0., 0., 0.])"
      ]
     },
     "execution_count": 3,
     "metadata": {},
     "output_type": "execute_result"
    }
   ],
   "source": [
    "# Now we will need to generate a \"turn\". To do that, we need to take into account\n",
    "# the rules that have been given to us in the beggining of the sheet. Namely:\n",
    "# (a) Each computer has a 0.1 chance to infect any other uninfected computer\n",
    "# (b) Every day technician removed virus from any 5 computers (assume this happens second)\n",
    "\n",
    "# First, we write some helped functions\n",
    "\n",
    "# Probability function\n",
    "def prob(probability : float = 0.1) -> bool:\n",
    "    # @params probability: chance of yes or no\n",
    "    # @return if infected or not\n",
    "    return random.random() < probability\n",
    "\n",
    "def num_infected() -> int:\n",
    "    # @return Num infected computers\n",
    "    return numpy.count_nonzero( computers == 1 )\n",
    "computers"
   ]
  },
  {
   "cell_type": "code",
   "execution_count": 4,
   "metadata": {},
   "outputs": [
    {
     "data": {
      "text/plain": [
       "array([1., 0., 0., 0., 0., 0., 0., 0., 0., 0., 0., 0., 0., 0., 0., 0., 0.,\n",
       "       0., 0., 0.])"
      ]
     },
     "execution_count": 4,
     "metadata": {},
     "output_type": "execute_result"
    }
   ],
   "source": [
    "\n",
    "# Function (a)\n",
    "def infect() -> None: # Since computers is global we don't need to pass it in\n",
    "    # Processes infecting computers\n",
    "    # @return None\n",
    "    for inf in range(num_infected()): # For each infected computer\n",
    "        for i in range(len(computers)):# Go through the array of computers\n",
    "            if not computers[i]: # If 0 (not infected)\n",
    "                if prob(0.1): # check if we infect\n",
    "                    computers[i] = 1 # If yes, infect!\n",
    "            \n",
    "computers"
   ]
  },
  {
   "cell_type": "code",
   "execution_count": 5,
   "metadata": {},
   "outputs": [
    {
     "data": {
      "text/plain": [
       "array([1., 0., 0., 0., 0., 0., 0., 0., 0., 0., 0., 0., 0., 0., 0., 0., 0.,\n",
       "       0., 0., 0.])"
      ]
     },
     "execution_count": 5,
     "metadata": {},
     "output_type": "execute_result"
    }
   ],
   "source": [
    "# Function (b)\n",
    "def IT(max_fix : int = 5) -> None:\n",
    "    # Fixes total of max_fix computers\n",
    "    # @return None\n",
    "    computers_fixed : int = 0\n",
    "    for i in range(len(computers)): # We go through all comps since order doesn't matter\n",
    "        if computers[i] and computers_fixed <= max_fix: # is infected and we have fixes left\n",
    "            computers[i] = 0 # Cure the infection\n",
    "            computers_fixed+=1\n",
    "computers"
   ]
  },
  {
   "cell_type": "code",
   "execution_count": 6,
   "metadata": {},
   "outputs": [
    {
     "data": {
      "text/plain": [
       "array([1., 0., 0., 0., 0., 0., 0., 0., 0., 0., 0., 0., 0., 0., 0., 0., 0.,\n",
       "       0., 0., 0.])"
      ]
     },
     "execution_count": 6,
     "metadata": {},
     "output_type": "execute_result"
    }
   ],
   "source": [
    "# Turn function\n",
    "def process_turn() -> None:\n",
    "    # Now we run the two functions we built\n",
    "    infect()\n",
    "    IT()\n",
    "computers"
   ]
  },
  {
   "cell_type": "code",
   "execution_count": 7,
   "metadata": {},
   "outputs": [
    {
     "data": {
      "text/plain": [
       "array([0., 0., 0., 0., 0., 0., 0., 0., 0., 0., 0., 0., 0., 0., 0., 0., 0.,\n",
       "       0., 0., 0.])"
      ]
     },
     "execution_count": 7,
     "metadata": {},
     "output_type": "execute_result"
    }
   ],
   "source": [
    "infect()\n",
    "IT()\n",
    "computers"
   ]
  }
 ],
 "metadata": {
  "kernelspec": {
   "display_name": "Python 3",
   "language": "python",
   "name": "python3"
  },
  "language_info": {
   "codemirror_mode": {
    "name": "ipython",
    "version": 3
   },
   "file_extension": ".py",
   "mimetype": "text/x-python",
   "name": "python",
   "nbconvert_exporter": "python",
   "pygments_lexer": "ipython3",
   "version": "3.6.7"
  }
 },
 "nbformat": 4,
 "nbformat_minor": 2
}
