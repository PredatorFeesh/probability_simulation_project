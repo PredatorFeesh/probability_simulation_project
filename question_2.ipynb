{
 "cells": [
  {
   "cell_type": "markdown",
   "metadata": {},
   "source": [
    "# QUESTION 2"
   ]
  },
  {
   "cell_type": "markdown",
   "metadata": {},
   "source": [
    "![](images/question_2_text.png)"
   ]
  },
  {
   "cell_type": "markdown",
   "metadata": {},
   "source": [
    "![](images/question_2_parts.png)"
   ]
  },
  {
   "cell_type": "code",
   "execution_count": 2,
   "metadata": {},
   "outputs": [],
   "source": [
    "# Import needed module\n",
    "import numpy\n",
    "import random\n",
    "\n",
    "# For consistent results we seed\n",
    "random.seed(6)"
   ]
  },
  {
   "cell_type": "code",
   "execution_count": 3,
   "metadata": {},
   "outputs": [],
   "source": [
    "# First, we will generate all the computers in the network\n",
    "num_computers : int = 20\n",
    "num_infected : int = 0\n",
    "    \n",
    "# And specify the chance of infection for infected computer\n",
    "prob_infect = 0.1\n",
    "\n",
    "# Keep track of computers\n",
    "computers : numpy.ndarray = numpy.zeros(num_computers)\n",
    "\n",
    "# We will also track the total days it takes to irradicate the virus as a sum since\n",
    "# the average is equal to the sum / trails\n",
    "days_total = 0\n",
    "\n",
    "# And we will track the number of times a computer was infected for parts B and D.\n",
    "times_infected : numpy.ndarray = numpy.zeros(num_computers)\n",
    "    \n",
    "# Track average infections per trial\n",
    "check_already_infected : numpy.ndarray = numpy.zeros(num_computers)\n",
    "average_infections : list = []"
   ]
  },
  {
   "cell_type": "markdown",
   "metadata": {},
   "source": [
    "Now we will need to generate a \"turn\". To do that, we need to take into account <br>\n",
    "the rules that have been given to us in the beggining of the sheet. Namely: <br> <br>\n",
    "-(a) Each computer has a 0.1 chance to infect any other uninfected computer <br>\n",
    "-(b) Every day technician removed virus from any 5 computers (assume this happens second)"
   ]
  },
  {
   "cell_type": "code",
   "execution_count": 4,
   "metadata": {},
   "outputs": [],
   "source": [
    "# First we need to write some helper functions\n",
    "\n",
    "def infect(index:int, trial:int) -> None:\n",
    "    # Infects a specific index\n",
    "    # @return None\n",
    "    global computers # Have to do it..\n",
    "    global times_infected\n",
    "    global num_infected\n",
    "    computers[index] = 1\n",
    "    times_infected[index] += 1\n",
    "    num_infected += 1\n",
    "    if not check_already_infected[index]: # If we weren't infected this trial\n",
    "        average_infections[trial] += 1\n",
    "        check_already_infected[index] = 1\n",
    "\n",
    "def cure(index:int) -> None:\n",
    "    # Removes from infected\n",
    "    # @return None\n",
    "    global computers \n",
    "    global num_infected\n",
    "    computers[index] =  0 # Find infected in the list and delete it\n",
    "    num_infected -= 1\n",
    "    \n",
    "\n",
    "def get_infected() -> list: # Returns index of infected computers\n",
    "    global computers\n",
    "    return [e for e,i in enumerate(computers) if i == 1]\n",
    "\n",
    "def get_uninfected() -> list: # Returns index of infected computers\n",
    "    global computers\n",
    "    return [e for e,i in enumerate(computers) if i == 0]\n"
   ]
  },
  {
   "cell_type": "code",
   "execution_count": 5,
   "metadata": {},
   "outputs": [],
   "source": [
    "# Function (a)\n",
    "def infect_turn(trial) -> None: # Since computers is global we don't need to pass it in\n",
    "    # Processes infecting computers\n",
    "    # @return None\n",
    "    global computers\n",
    "    global prob_infect \n",
    "    for infed in get_infected(): # for each infected computer\n",
    "        for uninf in get_uninfected(): # try to infect each uninfected\n",
    "            if random.random() <= prob_infect: # if infect\n",
    "                infect(uninf, trial) # then we infect\n",
    "                \n",
    "# This has a terrible runtime        "
   ]
  },
  {
   "cell_type": "code",
   "execution_count": 6,
   "metadata": {},
   "outputs": [],
   "source": [
    "# Function (b)\n",
    "def IT_turn(max_fix : int = 5) -> None:\n",
    "    # Fixes total of max_fix computers\n",
    "    # @return None\n",
    "    global computers # Wish I didn't.. ой ой ой\n",
    "    infected = get_infected() # Get infected computers\n",
    "    if len(infected) <= max_fix: # If we don't reach max_fix \n",
    "        for comp in get_infected(): # Get the infected\n",
    "            cure(comp) # Cure 'em!\n",
    "    else: # Otherwise, we need to find max_fix indexes to cure\n",
    "        cured_indexes = random.sample(infected, max_fix) # Get max_fix indexes are random\n",
    "        for index in cured_indexes: # For each index\n",
    "            cure(index) # Cure the computer"
   ]
  },
  {
   "cell_type": "code",
   "execution_count": 7,
   "metadata": {},
   "outputs": [
    {
     "name": "stdout",
     "output_type": "stream",
     "text": [
      "\tExpected time for infected to be cured: 103.176725\n",
      "\tProbability each computer gets infected at least once: 0.14766125\n",
      "\tExpected number of computers that get infected: 4.978445235589712\n"
     ]
    }
   ],
   "source": [
    "# Now we need to actually process the trials\n",
    "num_trials = int(4e4)\n",
    "\n",
    "for trial in range(num_trials):\n",
    "    # Some resetting before we start\n",
    "    check_already_infected = numpy.zeros(num_computers) # Reset check\n",
    "    average_infections.append(0) # Prep for tracking \n",
    "    \n",
    "    # Let's infect a computer\n",
    "    start_index = random.randrange(0, num_computers, 1) # Pick random computer\n",
    "    infect(start_index, trial) # Infect it\n",
    "    \n",
    "    \n",
    "    # Now we need to loop through the days\n",
    "    while num_infected > 0: # While we have infecetd computers\n",
    "        # We pass the trial so we can properly update \"average infections\"\n",
    "        infect_turn(trial = trial)\n",
    "        IT_turn()\n",
    "        \n",
    "        days_total += 1\n",
    "\n",
    "print(\"\\tExpected time for infected to be cured: {}\".\\\n",
    "      format(days_total/num_trials))\n",
    "print(\"\\tProbability each computer gets infected at least once: {}\".\\\n",
    "      format( sum(average_infections)/(num_trials * num_computers) ))\n",
    "print(\"\\tExpected number of computers that get infected: {}\".\\\n",
    "      format( ( times_infected / (days_total) ).mean() * num_computers )) \n",
    "# We can use days for the last calculation because it should be equal to \n",
    "# the total number of infections. It is used to normalize the array, before\n",
    "# we take the mean, and then multiply by the max computers\n"
   ]
  }
 ],
 "metadata": {
  "kernelspec": {
   "display_name": "Python 3",
   "language": "python",
   "name": "python3"
  },
  "language_info": {
   "codemirror_mode": {
    "name": "ipython",
    "version": 3
   },
   "file_extension": ".py",
   "mimetype": "text/x-python",
   "name": "python",
   "nbconvert_exporter": "python",
   "pygments_lexer": "ipython3",
   "version": "3.7.1"
  }
 },
 "nbformat": 4,
 "nbformat_minor": 2
}
