{
 "cells": [
  {
   "cell_type": "markdown",
   "metadata": {},
   "source": [
    "# QUESTION 2"
   ]
  },
  {
   "cell_type": "markdown",
   "metadata": {},
   "source": [
    "![](images/question_2_text.png)"
   ]
  },
  {
   "cell_type": "code",
   "execution_count": 1,
   "metadata": {},
   "outputs": [],
   "source": [
    "# Import needed module\n",
    "import numpy\n",
    "import random\n"
   ]
  },
  {
   "cell_type": "code",
   "execution_count": 2,
   "metadata": {},
   "outputs": [],
   "source": [
    "# First, we will generate all the computers in the network\n",
    "num_computers : int = 20\n",
    "computers : numpy.ndarray = numpy.zeros(num_computers)\n",
    "    \n",
    "total_trials= int(4e4)\n",
    "\n",
    "days = 0\n",
    "times_infected = numpy.zeros(num_computers)\n",
    "    \n",
    "# And we will say that the first computer is infected. It doesn't matter\n",
    "# which computer we say is infected, as computers here are indistinguishable. \n",
    "# (All connected)\n",
    "# computers[0] = 1 # The infection begins!"
   ]
  },
  {
   "cell_type": "code",
   "execution_count": 3,
   "metadata": {},
   "outputs": [],
   "source": [
    "# Now we will need to generate a \"turn\". To do that, we need to take into account\n",
    "# the rules that have been given to us in the beggining of the sheet. Namely:\n",
    "# (a) Each computer has a 0.1 chance to infect any other uninfected computer\n",
    "# (b) Every day technician removed virus from any 5 computers (assume this happens second)\n",
    "\n",
    "# First, we write some helped functions\n",
    "\n",
    "def get_infected_indicies() -> list:\n",
    "    inds = []\n",
    "    for comp in range(num_computers):\n",
    "        if computers[comp]:\n",
    "            inds.append(comp)\n",
    "    return inds\n",
    "\n",
    "def num_infected() -> int:\n",
    "    # @return Num infected computers\n",
    "    return numpy.count_nonzero( computers == 1 )\n"
   ]
  },
  {
   "cell_type": "code",
   "execution_count": 4,
   "metadata": {},
   "outputs": [],
   "source": [
    "\n",
    "# Function (a)\n",
    "def infect() -> None: # Since computers is global we don't need to pass it in\n",
    "    # Processes infecting computers\n",
    "    # @return None\n",
    "#     print(\"\\tbefore infect:{}\".format(computers))\n",
    "    for inf in range(num_infected()): # For each infected computer\n",
    "        for i in range(len(computers)):# Go through the array of computers\n",
    "            if not computers[i]: # If 0 (not infected)\n",
    "                if random.random() <= 0.1: # check if we infect\n",
    "                    computers[i] = 1 # If yes, infect!\n",
    "                    times_infected[i] += 1\n",
    "  \n",
    "#     for comp in range(num_computers): # For each computer\n",
    "#         if not computers[comp]: # If not infected\n",
    "#             for inf in range(num_infected()): # Each infected computer tries to infect\n",
    "#                 if random.uniform(0,1) <= 0.1: # if we manage to infect\n",
    "#                     computers[comp] = 1 # then we are infected\n",
    "#     print(\"\\tAfter infect:{}\".format(computers))"
   ]
  },
  {
   "cell_type": "code",
   "execution_count": 5,
   "metadata": {},
   "outputs": [],
   "source": [
    "# Function (b)\n",
    "def IT(max_fix : int = 5) -> None:\n",
    "    # Fixes total of max_fix computers\n",
    "    # @return None\n",
    "#     print(\"\\t{}\".format(num_infected()))\n",
    "    if num_infected() <= max_fix: # If less then max_fix computers\n",
    "        for ind in get_infected_indicies(): # Go to each infected indicie\n",
    "            computers[ind] = 0  # No longer infected\n",
    "    else:\n",
    "        to_fix = random.sample(get_infected_indicies(), max_fix) # Get the indixes that are cured\n",
    "        for comp in to_fix: # Go through those indicies\n",
    "            computers[comp] = 0 # Uninfect the computers\n",
    "#     print(\"\\tAfter IT{}\".format(computers))\n"
   ]
  },
  {
   "cell_type": "code",
   "execution_count": 6,
   "metadata": {},
   "outputs": [
    {
     "name": "stdout",
     "output_type": "stream",
     "text": [
      "\tExpected time till virus removed:124.05026666666667\n",
      "\\Infected at least once:3.3333333333333335e-05\n",
      "\tExpected number infected:0.0024666666666666665\n"
     ]
    }
   ],
   "source": [
    "# Trials\n",
    "for trial in range(total_trials):\n",
    "    computers = numpy.zeros(num_computers)\n",
    "    start = int(random.uniform(0,num_computers)) # Choose random start point\n",
    "    computers[start] = 1 # The infection begins!\n",
    "    times_infected[start] += 1 # Mark was infected\n",
    "#     days = 0\n",
    "    while True: # while computers still infected\n",
    "        infect()\n",
    "        IT()\n",
    "        days += 1\n",
    "        if num_infected() == 0:\n",
    "            break\n",
    "#     days_till_fixed.append(days)\n",
    "# days_till_fixed = numpy.array(days_till_fixed)\n",
    "\n",
    "print(\"\\tExpected time till virus removed:{}\".format(days / total_trials))\n",
    "print(\"\\tInfected at least once:{}\".format( min(times_infected) / total_trials )) #pidgeonhole\n",
    "print(\"\\tExpected number infected:{}\".format( sum(times_infected) / num_computers ))"
   ]
  },
  {
   "cell_type": "code",
   "execution_count": null,
   "metadata": {},
   "outputs": [],
   "source": []
  }
 ],
 "metadata": {
  "kernelspec": {
   "display_name": "Python 3",
   "language": "python",
   "name": "python3"
  },
  "language_info": {
   "codemirror_mode": {
    "name": "ipython",
    "version": 3
   },
   "file_extension": ".py",
   "mimetype": "text/x-python",
   "name": "python",
   "nbconvert_exporter": "python",
   "pygments_lexer": "ipython3",
   "version": "3.6.7"
  }
 },
 "nbformat": 4,
 "nbformat_minor": 2
}
