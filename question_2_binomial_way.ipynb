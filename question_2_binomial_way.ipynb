{
 "cells": [
  {
   "cell_type": "markdown",
   "metadata": {},
   "source": [
    "# QUESTION 2"
   ]
  },
  {
   "cell_type": "markdown",
   "metadata": {},
   "source": [
    "![](images/question_2_text.png)"
   ]
  },
  {
   "cell_type": "code",
   "execution_count": 2,
   "metadata": {},
   "outputs": [],
   "source": [
    "# Import needed module\n",
    "import numpy\n",
    "import random\n",
    "\n",
    "# For consistent results we seed\n",
    "random.seed(6)"
   ]
  },
  {
   "cell_type": "code",
   "execution_count": 3,
   "metadata": {},
   "outputs": [],
   "source": [
    "# The number of computers to get infected is going to be a binomial\n",
    "# which depends on current number of infected computers.\n",
    "# I.E, given 1 infection, the chance of each computer getting infected\n",
    "# is going to be 0.1, etc.. because computer either gets infected or not\n",
    "\n",
    "# ALSO, computers are not ordered (as all are connected), so we can just track\n",
    "# the number of infected computers.\n",
    "max_computers : int = 20\n",
    "prob_infect : float = 0.1\n",
    "num_infected : int = 1\n",
    "\n",
    "\n",
    "    "
   ]
  },
  {
   "cell_type": "markdown",
   "metadata": {},
   "source": [
    "Now we will need to generate a \"turn\". To do that, we need to take into account\n",
    "the rules that have been given to us in the beggining of the sheet. Namely:\n",
    "(a) Each computer has a 0.1 chance to infect any other uninfected computer\n",
    "(b) Every day technician removed virus from any 5 computers (assume this happens second)\n"
   ]
  },
  {
   "cell_type": "code",
   "execution_count": 4,
   "metadata": {},
   "outputs": [],
   "source": [
    "# Now we will need to generate a \"turn\". To do that, we need to take into account\n",
    "# the rules that have been given to us in the beggining of the sheet. Namely:\n",
    "# (a) Each computer has a 0.1 chance to infect any other uninfected computer\n",
    "# (b) Every day technician removed virus from any 5 computers (assume this happens second)\n",
    "\n",
    "# Function (a)\n",
    "def infect() -> None:\n",
    "    '''\n",
    "        Updates the total number of newly infected computers\n",
    "    '''\n",
    "    # @return None since we are updating a global variable\n",
    "    global num_infected\n",
    "    # NOTE: Doesn't matter we iterating same variable we are changing\n",
    "    # because Python3 generates range and doesn't update on change\n",
    "    for i in range(num_infected): # For each infected computers\n",
    "        num_infected += numpy.random.binomial(n = max_computers - num_infected, \\\n",
    "                                              p = prob_infect) \n",
    "        # Get the number of computers to infect\n",
    "        "
   ]
  },
  {
   "cell_type": "code",
   "execution_count": 5,
   "metadata": {},
   "outputs": [],
   "source": [
    "# Function (b)\n",
    "def IT(max_fix : int = 5) -> None:\n",
    "    '''\n",
    "    Updated the total number of infected computer after IT fixes computers\n",
    "    '''\n",
    "    # @return None since we are updating a global variable\n",
    "    global num_infected\n",
    "    if num_infected < max_fix:\n",
    "        num_infected = 0\n",
    "    else:\n",
    "        num_infected -= max_fix   "
   ]
  },
  {
   "cell_type": "code",
   "execution_count": 7,
   "metadata": {},
   "outputs": [
    {
     "data": {
      "text/plain": [
       "1.041237113402062"
      ]
     },
     "execution_count": 7,
     "metadata": {},
     "output_type": "execute_result"
    }
   ],
   "source": [
    "trials = int(1e4)\n",
    "num_times = []\n",
    "\n",
    "for i in range(trials):\n",
    "    count = 0\n",
    "    while num_infected != 0:\n",
    "        infect()\n",
    "        IT()\n",
    "        count += 1\n",
    "    if count > 10:\n",
    "        continue\n",
    "    max_computers = 20\n",
    "    prob_infect = 0.1\n",
    "    num_infected = 1\n",
    "    num_times.append(count)\n",
    "\n",
    "num_times = numpy.array(num_times)\n",
    "numpy.mean(num_times)\n",
    "    "
   ]
  }
 ],
 "metadata": {
  "kernelspec": {
   "display_name": "Python 3",
   "language": "python",
   "name": "python3"
  },
  "language_info": {
   "codemirror_mode": {
    "name": "ipython",
    "version": 3
   },
   "file_extension": ".py",
   "mimetype": "text/x-python",
   "name": "python",
   "nbconvert_exporter": "python",
   "pygments_lexer": "ipython3",
   "version": "3.6.7"
  }
 },
 "nbformat": 4,
 "nbformat_minor": 2
}
